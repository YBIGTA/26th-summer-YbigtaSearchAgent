{
 "cells": [
  {
   "cell_type": "code",
   "execution_count": null,
   "id": "b53fba0d-344c-4b8e-b2ad-33ab6155eea3",
   "metadata": {},
   "outputs": [],
   "source": [
    "# 1. 필요한 라이브러리들을 불러옵니다.\n",
    "import os\n",
    "from dotenv import load_dotenv\n",
    "from langchain_community.document_loaders import DirectoryLoader\n",
    "from langchain.text_splitter import RecursiveCharacterTextSplitter\n",
    "from langchain_openai import OpenAIEmbeddings\n",
    "from langchain_community.vectorstores import FAISS\n",
    "from langchain_openai import ChatOpenAI\n",
    "from langchain.chains import RetrievalQA\n",
    "\n",
    "# 2. API 키 설정\n",
    "# .env 파일에서 API 키를 불러옵니다.\n",
    "load_dotenv()\n",
    "print(\"API Key Loaded!\")\n",
    "\n",
    "# 3. 문서 로드 (Load)\n",
    "# 'data' 폴더에 있는 모든 .txt, .md 파일을 불러옵니다.\n",
    "loader = DirectoryLoader('./data', glob=\"**/*.md\")\n",
    "documents = loader.load()\n",
    "print(f\"Loaded {len(documents)} documents.\")\n",
    "\n",
    "# 4. 문서 분할 (Split)\n",
    "# 불러온 문서를 AI가 처리하기 좋은 작은 조각(chunk)으로 나눕니다.\n",
    "text_splitter = RecursiveCharacterTextSplitter(chunk_size=1000, chunk_overlap=200)\n",
    "texts = text_splitter.split_documents(documents)\n",
    "print(f\"Split into {len(texts)} chunks.\")\n",
    "\n",
    "# 5. 임베딩 및 벡터 저장소 구축 (Embed & Store)\n",
    "# 각 텍스트 조각을 벡터로 변환(임베딩)하고, 검색할 수 있도록 FAISS 벡터 저장소에 저장합니다.\n",
    "embeddings = OpenAIEmbeddings()\n",
    "vectorstore = FAISS.from_documents(texts, embeddings)\n",
    "print(\"Vector store is ready.\")\n",
    "\n",
    "# 6. 검색 및 답변 생성 (Retrieve & Generate)\n",
    "# LLM 모델을 설정합니다.\n",
    "llm = ChatOpenAI(model_name=\"gpt-4o-mini-2024-07-18\", temperature=0)\n",
    "\n",
    "# RAG 체인을 생성합니다.\n",
    "# 이 체인은 질문이 들어오면 벡터 저장소에서 관련 문서를 찾고(retrieve),\n",
    "# 찾은 문서와 질문을 함께 LLM에 보내 답변을 생성합니다.\n",
    "qa_chain = RetrievalQA.from_chain_type(\n",
    "    llm=llm,\n",
    "    chain_type=\"stuff\",\n",
    "    retriever=vectorstore.as_retriever()\n",
    ")\n",
    "\n",
    "# 7. 질문하기!\n",
    "query = \"프로젝트의 목적이 뭐야?\" # data 폴더에 넣은 README.md 내용과 관련된 질문\n",
    "result = qa_chain.invoke(query)\n",
    "\n",
    "print(\"\\n--- 질문 ---\")\n",
    "print(query)\n",
    "print(\"\\n--- 답변 ---\")\n",
    "print(result['result'])"
   ]
  }
 ],
 "metadata": {
  "kernelspec": {
   "display_name": "Python 3 (ipykernel)",
   "language": "python",
   "name": "python3"
  },
  "language_info": {
   "codemirror_mode": {
    "name": "ipython",
    "version": 3
   },
   "file_extension": ".py",
   "mimetype": "text/x-python",
   "name": "python",
   "nbconvert_exporter": "python",
   "pygments_lexer": "ipython3",
   "version": "3.9.6"
  }
 },
 "nbformat": 4,
 "nbformat_minor": 5
}
