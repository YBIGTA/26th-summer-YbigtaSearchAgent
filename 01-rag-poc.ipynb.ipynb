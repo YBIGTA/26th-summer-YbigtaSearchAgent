{
 "cells": [
  {
   "cell_type": "code",
   "execution_count": 1,
   "id": "b53fba0d-344c-4b8e-b2ad-33ab6155eea3",
   "metadata": {},
   "outputs": [
    {
     "name": "stderr",
     "output_type": "stream",
     "text": [
      "/Users/jungkang/project/ybigta-rag-agent/.venv/lib/python3.9/site-packages/urllib3/__init__.py:35: NotOpenSSLWarning: urllib3 v2 only supports OpenSSL 1.1.1+, currently the 'ssl' module is compiled with 'LibreSSL 2.8.3'. See: https://github.com/urllib3/urllib3/issues/3020\n",
      "  warnings.warn(\n"
     ]
    },
    {
     "name": "stdout",
     "output_type": "stream",
     "text": [
      "API Key Loaded!\n"
     ]
    },
    {
     "name": "stderr",
     "output_type": "stream",
     "text": [
      "libmagic is unavailable but assists in filetype detection. Please consider installing libmagic for better results.\n"
     ]
    },
    {
     "name": "stdout",
     "output_type": "stream",
     "text": [
      "Loaded 1 documents.\n",
      "Split into 5 chunks.\n",
      "Vector store is ready.\n",
      "\n",
      "--- 질문 ---\n",
      "프로젝트의 목적이 뭐야?\n",
      "\n",
      "--- 답변 ---\n",
      "프로젝트의 목적은 아마추어 및 동호회 농구 경기에서 발생하는 기록 인력 부족 문제를 해결하고, 선수들에게 데이터 기반의 경기 분석 경험을 제공하는 것입니다. 이를 위해 컴퓨터 비전 기술을 활용하여 경기 기록 과정을 자동화하고, 휴먼 에러를 최소화하며, 실시간으로 경기 상황을 분석하고 스코어보드를 업데이트하는 시스템을 구축하는 것입니다.\n"
     ]
    }
   ],
   "source": [
    "# 1. 필요한 라이브러리들을 불러옵니다.\n",
    "import os\n",
    "from dotenv import load_dotenv\n",
    "from langchain_community.document_loaders import DirectoryLoader\n",
    "from langchain.text_splitter import RecursiveCharacterTextSplitter\n",
    "from langchain_openai import OpenAIEmbeddings\n",
    "from langchain_community.vectorstores import FAISS\n",
    "from langchain_openai import ChatOpenAI\n",
    "from langchain.chains import RetrievalQA\n",
    "\n",
    "# 2. API 키 설정\n",
    "# .env 파일에서 API 키를 불러옵니다.\n",
    "load_dotenv()\n",
    "print(\"API Key Loaded!\")\n",
    "\n",
    "# 3. 문서 로드 (Load)\n",
    "# 'data' 폴더에 있는 모든 .txt, .md 파일을 불러옵니다.\n",
    "loader = DirectoryLoader('./data', glob=\"**/*.md\")\n",
    "documents = loader.load()\n",
    "print(f\"Loaded {len(documents)} documents.\")\n",
    "\n",
    "# 4. 문서 분할 (Split)\n",
    "# 불러온 문서를 AI가 처리하기 좋은 작은 조각(chunk)으로 나눕니다.\n",
    "text_splitter = RecursiveCharacterTextSplitter(chunk_size=1000, chunk_overlap=200)\n",
    "texts = text_splitter.split_documents(documents)\n",
    "print(f\"Split into {len(texts)} chunks.\")\n",
    "\n",
    "# 5. 임베딩 및 벡터 저장소 구축 (Embed & Store)\n",
    "# 각 텍스트 조각을 벡터로 변환(임베딩)하고, 검색할 수 있도록 FAISS 벡터 저장소에 저장합니다.\n",
    "embeddings = OpenAIEmbeddings()\n",
    "vectorstore = FAISS.from_documents(texts, embeddings)\n",
    "print(\"Vector store is ready.\")\n",
    "\n",
    "# 6. 검색 및 답변 생성 (Retrieve & Generate)\n",
    "# LLM 모델을 설정합니다.\n",
    "llm = ChatOpenAI(model_name=\"gpt-4o-mini-2024-07-18\", temperature=0)\n",
    "\n",
    "# RAG 체인을 생성합니다.\n",
    "# 이 체인은 질문이 들어오면 벡터 저장소에서 관련 문서를 찾고(retrieve),\n",
    "# 찾은 문서와 질문을 함께 LLM에 보내 답변을 생성합니다.\n",
    "qa_chain = RetrievalQA.from_chain_type(\n",
    "    llm=llm,\n",
    "    chain_type=\"stuff\",\n",
    "    retriever=vectorstore.as_retriever()\n",
    ")\n",
    "\n",
    "# 7. 질문하기!\n",
    "query = \"프로젝트의 목적이 뭐야?\" # data 폴더에 넣은 README.md 내용과 관련된 질문\n",
    "result = qa_chain.invoke(query)\n",
    "\n",
    "print(\"\\n--- 질문 ---\")\n",
    "print(query)\n",
    "print(\"\\n--- 답변 ---\")\n",
    "print(result['result'])"
   ]
  },
  {
   "cell_type": "code",
   "execution_count": 2,
   "id": "5b8fc393-04b9-47ab-8228-ac5d438fe9ba",
   "metadata": {},
   "outputs": [
    {
     "name": "stdout",
     "output_type": "stream",
     "text": [
      "Requirement already satisfied: unstructured[md] in ./.venv/lib/python3.9/site-packages (0.18.3)\n",
      "Requirement already satisfied: unstructured-client in ./.venv/lib/python3.9/site-packages (from unstructured[md]) (0.41.0)\n",
      "Requirement already satisfied: python-magic in ./.venv/lib/python3.9/site-packages (from unstructured[md]) (0.4.27)\n",
      "Requirement already satisfied: python-oxmsg in ./.venv/lib/python3.9/site-packages (from unstructured[md]) (0.0.2)\n",
      "Requirement already satisfied: rapidfuzz in ./.venv/lib/python3.9/site-packages (from unstructured[md]) (3.13.0)\n",
      "Requirement already satisfied: html5lib in ./.venv/lib/python3.9/site-packages (from unstructured[md]) (1.1)\n",
      "Requirement already satisfied: emoji in ./.venv/lib/python3.9/site-packages (from unstructured[md]) (2.14.1)\n",
      "Requirement already satisfied: lxml in ./.venv/lib/python3.9/site-packages (from unstructured[md]) (6.0.0)\n",
      "Requirement already satisfied: filetype in ./.venv/lib/python3.9/site-packages (from unstructured[md]) (1.2.0)\n",
      "Requirement already satisfied: typing-extensions in ./.venv/lib/python3.9/site-packages (from unstructured[md]) (4.14.1)\n",
      "Requirement already satisfied: python-iso639 in ./.venv/lib/python3.9/site-packages (from unstructured[md]) (2025.2.18)\n",
      "Requirement already satisfied: backoff in ./.venv/lib/python3.9/site-packages (from unstructured[md]) (2.2.1)\n",
      "Requirement already satisfied: psutil in ./.venv/lib/python3.9/site-packages (from unstructured[md]) (7.0.0)\n",
      "Requirement already satisfied: wrapt in ./.venv/lib/python3.9/site-packages (from unstructured[md]) (1.17.2)\n",
      "Requirement already satisfied: langdetect in ./.venv/lib/python3.9/site-packages (from unstructured[md]) (1.0.9)\n",
      "Requirement already satisfied: beautifulsoup4 in ./.venv/lib/python3.9/site-packages (from unstructured[md]) (4.13.4)\n",
      "Requirement already satisfied: requests in ./.venv/lib/python3.9/site-packages (from unstructured[md]) (2.32.4)\n",
      "Requirement already satisfied: numpy in ./.venv/lib/python3.9/site-packages (from unstructured[md]) (2.0.2)\n",
      "Requirement already satisfied: chardet in ./.venv/lib/python3.9/site-packages (from unstructured[md]) (5.2.0)\n",
      "Requirement already satisfied: tqdm in ./.venv/lib/python3.9/site-packages (from unstructured[md]) (4.67.1)\n",
      "Requirement already satisfied: dataclasses-json in ./.venv/lib/python3.9/site-packages (from unstructured[md]) (0.6.7)\n",
      "Requirement already satisfied: nltk in ./.venv/lib/python3.9/site-packages (from unstructured[md]) (3.9.1)\n",
      "Collecting markdown\n",
      "  Downloading markdown-3.8.2-py3-none-any.whl (106 kB)\n",
      "\u001b[K     |████████████████████████████████| 106 kB 1.3 MB/s eta 0:00:01\n",
      "\u001b[?25hRequirement already satisfied: soupsieve>1.2 in ./.venv/lib/python3.9/site-packages (from beautifulsoup4->unstructured[md]) (2.7)\n",
      "Requirement already satisfied: typing-inspect<1,>=0.4.0 in ./.venv/lib/python3.9/site-packages (from dataclasses-json->unstructured[md]) (0.9.0)\n",
      "Requirement already satisfied: marshmallow<4.0.0,>=3.18.0 in ./.venv/lib/python3.9/site-packages (from dataclasses-json->unstructured[md]) (3.26.1)\n",
      "Requirement already satisfied: packaging>=17.0 in ./.venv/lib/python3.9/site-packages (from marshmallow<4.0.0,>=3.18.0->dataclasses-json->unstructured[md]) (25.0)\n",
      "Requirement already satisfied: mypy-extensions>=0.3.0 in ./.venv/lib/python3.9/site-packages (from typing-inspect<1,>=0.4.0->dataclasses-json->unstructured[md]) (1.1.0)\n",
      "Requirement already satisfied: six>=1.9 in ./.venv/lib/python3.9/site-packages (from html5lib->unstructured[md]) (1.17.0)\n",
      "Requirement already satisfied: webencodings in ./.venv/lib/python3.9/site-packages (from html5lib->unstructured[md]) (0.5.1)\n",
      "Requirement already satisfied: importlib-metadata>=4.4 in ./.venv/lib/python3.9/site-packages (from markdown->unstructured[md]) (8.7.0)\n",
      "Requirement already satisfied: zipp>=3.20 in ./.venv/lib/python3.9/site-packages (from importlib-metadata>=4.4->markdown->unstructured[md]) (3.23.0)\n",
      "Requirement already satisfied: regex>=2021.8.3 in ./.venv/lib/python3.9/site-packages (from nltk->unstructured[md]) (2025.7.34)\n",
      "Requirement already satisfied: joblib in ./.venv/lib/python3.9/site-packages (from nltk->unstructured[md]) (1.5.1)\n",
      "Requirement already satisfied: click in ./.venv/lib/python3.9/site-packages (from nltk->unstructured[md]) (8.1.8)\n",
      "Requirement already satisfied: olefile in ./.venv/lib/python3.9/site-packages (from python-oxmsg->unstructured[md]) (0.47)\n",
      "Requirement already satisfied: certifi>=2017.4.17 in ./.venv/lib/python3.9/site-packages (from requests->unstructured[md]) (2025.7.14)\n",
      "Requirement already satisfied: charset_normalizer<4,>=2 in ./.venv/lib/python3.9/site-packages (from requests->unstructured[md]) (3.4.2)\n",
      "Requirement already satisfied: urllib3<3,>=1.21.1 in ./.venv/lib/python3.9/site-packages (from requests->unstructured[md]) (2.5.0)\n",
      "Requirement already satisfied: idna<4,>=2.5 in ./.venv/lib/python3.9/site-packages (from requests->unstructured[md]) (3.10)\n",
      "Requirement already satisfied: aiofiles>=24.1.0 in ./.venv/lib/python3.9/site-packages (from unstructured-client->unstructured[md]) (24.1.0)\n",
      "Requirement already satisfied: httpx>=0.27.0 in ./.venv/lib/python3.9/site-packages (from unstructured-client->unstructured[md]) (0.28.1)\n",
      "Requirement already satisfied: nest-asyncio>=1.6.0 in ./.venv/lib/python3.9/site-packages (from unstructured-client->unstructured[md]) (1.6.0)\n",
      "Requirement already satisfied: pydantic>=2.11.2 in ./.venv/lib/python3.9/site-packages (from unstructured-client->unstructured[md]) (2.11.7)\n",
      "Requirement already satisfied: cryptography>=3.1 in ./.venv/lib/python3.9/site-packages (from unstructured-client->unstructured[md]) (45.0.5)\n",
      "Requirement already satisfied: requests-toolbelt>=1.0.0 in ./.venv/lib/python3.9/site-packages (from unstructured-client->unstructured[md]) (1.0.0)\n",
      "Requirement already satisfied: pypdf>=4.0 in ./.venv/lib/python3.9/site-packages (from unstructured-client->unstructured[md]) (5.9.0)\n",
      "Requirement already satisfied: httpcore>=1.0.9 in ./.venv/lib/python3.9/site-packages (from unstructured-client->unstructured[md]) (1.0.9)\n",
      "Requirement already satisfied: cffi>=1.14 in ./.venv/lib/python3.9/site-packages (from cryptography>=3.1->unstructured-client->unstructured[md]) (1.17.1)\n",
      "Requirement already satisfied: pycparser in ./.venv/lib/python3.9/site-packages (from cffi>=1.14->cryptography>=3.1->unstructured-client->unstructured[md]) (2.22)\n",
      "Requirement already satisfied: h11>=0.16 in ./.venv/lib/python3.9/site-packages (from httpcore>=1.0.9->unstructured-client->unstructured[md]) (0.16.0)\n",
      "Requirement already satisfied: anyio in ./.venv/lib/python3.9/site-packages (from httpx>=0.27.0->unstructured-client->unstructured[md]) (4.9.0)\n",
      "Requirement already satisfied: typing-inspection>=0.4.0 in ./.venv/lib/python3.9/site-packages (from pydantic>=2.11.2->unstructured-client->unstructured[md]) (0.4.1)\n",
      "Requirement already satisfied: pydantic-core==2.33.2 in ./.venv/lib/python3.9/site-packages (from pydantic>=2.11.2->unstructured-client->unstructured[md]) (2.33.2)\n",
      "Requirement already satisfied: annotated-types>=0.6.0 in ./.venv/lib/python3.9/site-packages (from pydantic>=2.11.2->unstructured-client->unstructured[md]) (0.7.0)\n",
      "Requirement already satisfied: exceptiongroup>=1.0.2 in ./.venv/lib/python3.9/site-packages (from anyio->httpx>=0.27.0->unstructured-client->unstructured[md]) (1.3.0)\n",
      "Requirement already satisfied: sniffio>=1.1 in ./.venv/lib/python3.9/site-packages (from anyio->httpx>=0.27.0->unstructured-client->unstructured[md]) (1.3.1)\n",
      "Installing collected packages: markdown\n",
      "Successfully installed markdown-3.8.2\n",
      "\u001b[33mWARNING: You are using pip version 21.2.4; however, version 25.2 is available.\n",
      "You should consider upgrading via the '/Users/jungkang/project/ybigta-rag-agent/.venv/bin/python3 -m pip install --upgrade pip' command.\u001b[0m\n",
      "Note: you may need to restart the kernel to use updated packages.\n"
     ]
    }
   ],
   "source": [
    "pip install \"unstructured[md]\""
   ]
  }
 ],
 "metadata": {
  "kernelspec": {
   "display_name": "Python 3 (ipykernel)",
   "language": "python",
   "name": "python3"
  },
  "language_info": {
   "codemirror_mode": {
    "name": "ipython",
    "version": 3
   },
   "file_extension": ".py",
   "mimetype": "text/x-python",
   "name": "python",
   "nbconvert_exporter": "python",
   "pygments_lexer": "ipython3",
   "version": "3.9.6"
  }
 },
 "nbformat": 4,
 "nbformat_minor": 5
}
